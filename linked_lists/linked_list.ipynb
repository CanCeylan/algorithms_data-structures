{
 "cells": [
  {
   "cell_type": "code",
   "execution_count": 90,
   "metadata": {},
   "outputs": [],
   "source": [
    "# http://interactivepython.org/courselib/static/pythonds/BasicDS/ImplementinganUnorderedListLinkedLists.html#lst-nodeclass\n",
    "# https://www.codefellows.org/blog/implementing-a-singly-linked-list-in-python/\n",
    "# https://github.com/donnemartin/interactive-coding-challenges/blob/master/linked_lists/linked_list/linked_list.py\n",
    "\n",
    "class Node(object):\n",
    "    \n",
    "    def __init__(self, data):\n",
    "        self.data = data\n",
    "        self.next = None\n",
    "        \n",
    "    def get_data(self):\n",
    "        return self.data\n",
    "    \n",
    "    def get_next(self):\n",
    "        return self.next\n",
    "    \n",
    "    def set_data(self, data):\n",
    "        self.data = data\n",
    "    \n",
    "    def set_next(self, next):\n",
    "        self.next = next        \n",
    "\n",
    "\n",
    "class LinkedList(object):\n",
    "    \n",
    "    def __init__(self, head=None):\n",
    "        self.head = head\n",
    "        \n",
    "    def __len__(self):\n",
    "        curr = self.head\n",
    "        counter = 0\n",
    "        while curr is not None:\n",
    "            curr = curr.next\n",
    "            counter += 1\n",
    "        return counter\n",
    "    \n",
    "    def __str__(self):\n",
    "        curr = self.head\n",
    "        result = \"\"\n",
    "        while curr is not None:\n",
    "            result += '-> {} '.format(curr.get_data())\n",
    "            curr = curr.get_next()\n",
    "        return '('+result[3:-1]+')'    \n",
    "            \n",
    "    \n",
    "    def insert(self, data):\n",
    "        temp = Node(data)\n",
    "        temp.set_next(self.head)\n",
    "        self.head = temp\n",
    "        \n",
    "    def search(self, item):\n",
    "        curr = self.head\n",
    "        found = False\n",
    "        index = 0\n",
    "        while curr is not None:\n",
    "            if curr.get_data() == item:\n",
    "                return index\n",
    "            curr = curr.get_next()    \n",
    "            index += 1\n",
    "        raise ValueError('Data not in list') if not found else index\n",
    "    \n",
    "    def delete(self, data):\n",
    "        index = self.search(data)\n",
    "        curr = self.head\n",
    "        c = 0\n",
    "        while curr is not None:\n",
    "            if c+1 == index:\n",
    "                next_node = curr.get_next().get_next()\n",
    "                curr.set_next(next_node) \n",
    "                return True\n",
    "            else:\n",
    "                curr = curr.next\n",
    "                c += 1      \n",
    "                \n",
    "    def is_empty(self):\n",
    "        return self.head == None"
   ]
  },
  {
   "cell_type": "code",
   "execution_count": 122,
   "metadata": {},
   "outputs": [],
   "source": [
    "def generate_linkedlist_from_list(lst):\n",
    "    lst.reverse()\n",
    "    l = LinkedList()\n",
    "    for e in lst:\n",
    "        l.insert(e)\n",
    "    print(l)\n",
    "    return(l)    \n",
    "\n",
    "# https://leetcode.com/problems/add-two-numbers/description/\n",
    "def add_two_numbers(l1, l2):\n",
    "    l1_curr = l1.head\n",
    "    l2_curr = l2.head\n",
    "    l = []\n",
    "    remainder = 0\n",
    "    while l1_curr is not None and l2_curr is not None:\n",
    "        sumation = l1_curr.get_data() + l2_curr.get_data() + remainder\n",
    "        if sumation >= 10:\n",
    "            l += [sumation%10]\n",
    "            remainder = 1\n",
    "        else:\n",
    "            l += [sumation]\n",
    "            remainder = 0\n",
    "        l1_curr = l1_curr.get_next()   \n",
    "        l2_curr = l2_curr.get_next()\n",
    "    return generate_linkedlist_from_list(l)"
   ]
  },
  {
   "cell_type": "code",
   "execution_count": 123,
   "metadata": {},
   "outputs": [
    {
     "name": "stdout",
     "output_type": "stream",
     "text": [
      "(2 -> 4 -> 3)\n",
      "(5 -> 6 -> 4)\n",
      "(7 -> 0 -> 8)\n"
     ]
    }
   ],
   "source": [
    "# https://leetcode.com/problems/add-two-numbers/description/\n",
    "l1 = generate_linkedlist_from_list([2,4,3])\n",
    "l2 = generate_linkedlist_from_list([5,6,4])\n",
    "\n",
    "l = add_two_numbers(l1,l2)"
   ]
  },
  {
   "cell_type": "code",
   "execution_count": 208,
   "metadata": {},
   "outputs": [
    {
     "data": {
      "text/plain": [
       "2"
      ]
     },
     "execution_count": 208,
     "metadata": {},
     "output_type": "execute_result"
    }
   ],
   "source": [
    "l.search(2)"
   ]
  },
  {
   "cell_type": "code",
   "execution_count": 210,
   "metadata": {},
   "outputs": [
    {
     "data": {
      "text/plain": [
       "0"
      ]
     },
     "execution_count": 210,
     "metadata": {},
     "output_type": "execute_result"
    }
   ],
   "source": [
    "l.search(8)"
   ]
  },
  {
   "cell_type": "code",
   "execution_count": 211,
   "metadata": {},
   "outputs": [
    {
     "data": {
      "text/plain": [
       "3"
      ]
     },
     "execution_count": 211,
     "metadata": {},
     "output_type": "execute_result"
    }
   ],
   "source": [
    "l.search(6)"
   ]
  },
  {
   "cell_type": "code",
   "execution_count": 212,
   "metadata": {},
   "outputs": [
    {
     "data": {
      "text/plain": [
       "4"
      ]
     },
     "execution_count": 212,
     "metadata": {},
     "output_type": "execute_result"
    }
   ],
   "source": [
    "l.search(10)"
   ]
  },
  {
   "cell_type": "code",
   "execution_count": 201,
   "metadata": {},
   "outputs": [],
   "source": [
    "l.delete(10)"
   ]
  },
  {
   "cell_type": "code",
   "execution_count": 202,
   "metadata": {},
   "outputs": [
    {
     "data": {
      "text/plain": [
       "3"
      ]
     },
     "execution_count": 202,
     "metadata": {},
     "output_type": "execute_result"
    }
   ],
   "source": [
    "l.search(6)"
   ]
  },
  {
   "cell_type": "code",
   "execution_count": 203,
   "metadata": {},
   "outputs": [],
   "source": [
    "l.search(10)"
   ]
  },
  {
   "cell_type": "code",
   "execution_count": 204,
   "metadata": {},
   "outputs": [
    {
     "data": {
      "text/plain": [
       "4"
      ]
     },
     "execution_count": 204,
     "metadata": {},
     "output_type": "execute_result"
    }
   ],
   "source": [
    "len(l)"
   ]
  },
  {
   "cell_type": "code",
   "execution_count": null,
   "metadata": {},
   "outputs": [],
   "source": []
  }
 ],
 "metadata": {
  "kernelspec": {
   "display_name": "myenv",
   "language": "python",
   "name": "myenv"
  },
  "language_info": {
   "codemirror_mode": {
    "name": "ipython",
    "version": 3
   },
   "file_extension": ".py",
   "mimetype": "text/x-python",
   "name": "python",
   "nbconvert_exporter": "python",
   "pygments_lexer": "ipython3",
   "version": "3.4.4"
  }
 },
 "nbformat": 4,
 "nbformat_minor": 2
}
